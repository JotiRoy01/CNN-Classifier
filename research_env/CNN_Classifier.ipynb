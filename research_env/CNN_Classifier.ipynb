{
 "cells": [
  {
   "cell_type": "code",
   "execution_count": 1,
   "id": "65d15f8b",
   "metadata": {
    "collapsed": true
   },
   "outputs": [
    {
     "name": "stdout",
     "output_type": "stream",
     "text": [
      "Requirement already satisfied: notebook in /home/joti/Documents/DL/CV_Project/CNN-Classifier/env/lib/python3.10/site-packages (6.5.4)\n",
      "Requirement already satisfied: jinja2 in /home/joti/Documents/DL/CV_Project/CNN-Classifier/env/lib/python3.10/site-packages (from notebook) (3.1.2)\n",
      "Requirement already satisfied: tornado>=6.1 in /home/joti/Documents/DL/CV_Project/CNN-Classifier/env/lib/python3.10/site-packages (from notebook) (6.3.2)\n",
      "Requirement already satisfied: pyzmq>=17 in /home/joti/Documents/DL/CV_Project/CNN-Classifier/env/lib/python3.10/site-packages (from notebook) (25.1.0)\n",
      "Requirement already satisfied: argon2-cffi in /home/joti/Documents/DL/CV_Project/CNN-Classifier/env/lib/python3.10/site-packages (from notebook) (21.3.0)\n",
      "Requirement already satisfied: traitlets>=4.2.1 in /home/joti/Documents/DL/CV_Project/CNN-Classifier/env/lib/python3.10/site-packages (from notebook) (5.9.0)\n",
      "Requirement already satisfied: jupyter-core>=4.6.1 in /home/joti/Documents/DL/CV_Project/CNN-Classifier/env/lib/python3.10/site-packages (from notebook) (5.3.1)\n",
      "Requirement already satisfied: jupyter-client>=5.3.4 in /home/joti/Documents/DL/CV_Project/CNN-Classifier/env/lib/python3.10/site-packages (from notebook) (8.2.0)\n",
      "Requirement already satisfied: ipython-genutils in /home/joti/Documents/DL/CV_Project/CNN-Classifier/env/lib/python3.10/site-packages (from notebook) (0.2.0)\n",
      "Requirement already satisfied: nbformat in /home/joti/Documents/DL/CV_Project/CNN-Classifier/env/lib/python3.10/site-packages (from notebook) (5.9.0)\n",
      "Requirement already satisfied: nbconvert>=5 in /home/joti/Documents/DL/CV_Project/CNN-Classifier/env/lib/python3.10/site-packages (from notebook) (7.5.0)\n",
      "Requirement already satisfied: nest-asyncio>=1.5 in /home/joti/Documents/DL/CV_Project/CNN-Classifier/env/lib/python3.10/site-packages (from notebook) (1.5.6)\n",
      "Requirement already satisfied: ipykernel in /home/joti/Documents/DL/CV_Project/CNN-Classifier/env/lib/python3.10/site-packages (from notebook) (6.23.2)\n",
      "Requirement already satisfied: Send2Trash>=1.8.0 in /home/joti/Documents/DL/CV_Project/CNN-Classifier/env/lib/python3.10/site-packages (from notebook) (1.8.2)\n",
      "Requirement already satisfied: terminado>=0.8.3 in /home/joti/Documents/DL/CV_Project/CNN-Classifier/env/lib/python3.10/site-packages (from notebook) (0.17.1)\n",
      "Requirement already satisfied: prometheus-client in /home/joti/Documents/DL/CV_Project/CNN-Classifier/env/lib/python3.10/site-packages (from notebook) (0.17.0)\n",
      "Requirement already satisfied: nbclassic>=0.4.7 in /home/joti/Documents/DL/CV_Project/CNN-Classifier/env/lib/python3.10/site-packages (from notebook) (1.0.0)\n",
      "Requirement already satisfied: python-dateutil>=2.8.2 in /home/joti/Documents/DL/CV_Project/CNN-Classifier/env/lib/python3.10/site-packages (from jupyter-client>=5.3.4->notebook) (2.8.2)\n",
      "Requirement already satisfied: platformdirs>=2.5 in /home/joti/Documents/DL/CV_Project/CNN-Classifier/env/lib/python3.10/site-packages (from jupyter-core>=4.6.1->notebook) (3.6.0)\n",
      "Requirement already satisfied: jupyter-server>=1.8 in /home/joti/Documents/DL/CV_Project/CNN-Classifier/env/lib/python3.10/site-packages (from nbclassic>=0.4.7->notebook) (2.6.0)\n",
      "Requirement already satisfied: notebook-shim>=0.2.3 in /home/joti/Documents/DL/CV_Project/CNN-Classifier/env/lib/python3.10/site-packages (from nbclassic>=0.4.7->notebook) (0.2.3)\n",
      "Requirement already satisfied: beautifulsoup4 in /home/joti/Documents/DL/CV_Project/CNN-Classifier/env/lib/python3.10/site-packages (from nbconvert>=5->notebook) (4.12.2)\n",
      "Requirement already satisfied: bleach!=5.0.0 in /home/joti/Documents/DL/CV_Project/CNN-Classifier/env/lib/python3.10/site-packages (from nbconvert>=5->notebook) (6.0.0)\n",
      "Requirement already satisfied: defusedxml in /home/joti/Documents/DL/CV_Project/CNN-Classifier/env/lib/python3.10/site-packages (from nbconvert>=5->notebook) (0.7.1)\n",
      "Requirement already satisfied: jupyterlab-pygments in /home/joti/Documents/DL/CV_Project/CNN-Classifier/env/lib/python3.10/site-packages (from nbconvert>=5->notebook) (0.2.2)\n",
      "Requirement already satisfied: markupsafe>=2.0 in /home/joti/Documents/DL/CV_Project/CNN-Classifier/env/lib/python3.10/site-packages (from nbconvert>=5->notebook) (2.1.3)\n",
      "Requirement already satisfied: mistune<3,>=2.0.3 in /home/joti/Documents/DL/CV_Project/CNN-Classifier/env/lib/python3.10/site-packages (from nbconvert>=5->notebook) (2.0.5)\n",
      "Requirement already satisfied: nbclient>=0.5.0 in /home/joti/Documents/DL/CV_Project/CNN-Classifier/env/lib/python3.10/site-packages (from nbconvert>=5->notebook) (0.8.0)\n",
      "Requirement already satisfied: packaging in /home/joti/Documents/DL/CV_Project/CNN-Classifier/env/lib/python3.10/site-packages (from nbconvert>=5->notebook) (23.1)\n",
      "Requirement already satisfied: pandocfilters>=1.4.1 in /home/joti/Documents/DL/CV_Project/CNN-Classifier/env/lib/python3.10/site-packages (from nbconvert>=5->notebook) (1.5.0)\n",
      "Requirement already satisfied: pygments>=2.4.1 in /home/joti/Documents/DL/CV_Project/CNN-Classifier/env/lib/python3.10/site-packages (from nbconvert>=5->notebook) (2.15.1)\n",
      "Requirement already satisfied: tinycss2 in /home/joti/Documents/DL/CV_Project/CNN-Classifier/env/lib/python3.10/site-packages (from nbconvert>=5->notebook) (1.2.1)\n",
      "Requirement already satisfied: fastjsonschema in /home/joti/Documents/DL/CV_Project/CNN-Classifier/env/lib/python3.10/site-packages (from nbformat->notebook) (2.17.1)\n",
      "Requirement already satisfied: jsonschema>=2.6 in /home/joti/Documents/DL/CV_Project/CNN-Classifier/env/lib/python3.10/site-packages (from nbformat->notebook) (4.17.3)\n",
      "Requirement already satisfied: ptyprocess in /home/joti/Documents/DL/CV_Project/CNN-Classifier/env/lib/python3.10/site-packages (from terminado>=0.8.3->notebook) (0.7.0)\n",
      "Requirement already satisfied: argon2-cffi-bindings in /home/joti/Documents/DL/CV_Project/CNN-Classifier/env/lib/python3.10/site-packages (from argon2-cffi->notebook) (21.2.0)\n",
      "Requirement already satisfied: comm>=0.1.1 in /home/joti/Documents/DL/CV_Project/CNN-Classifier/env/lib/python3.10/site-packages (from ipykernel->notebook) (0.1.3)\n",
      "Requirement already satisfied: debugpy>=1.6.5 in /home/joti/Documents/DL/CV_Project/CNN-Classifier/env/lib/python3.10/site-packages (from ipykernel->notebook) (1.6.7)\n",
      "Requirement already satisfied: ipython>=7.23.1 in /home/joti/Documents/DL/CV_Project/CNN-Classifier/env/lib/python3.10/site-packages (from ipykernel->notebook) (8.14.0)\n",
      "Requirement already satisfied: matplotlib-inline>=0.1 in /home/joti/Documents/DL/CV_Project/CNN-Classifier/env/lib/python3.10/site-packages (from ipykernel->notebook) (0.1.6)\n",
      "Requirement already satisfied: psutil in /home/joti/Documents/DL/CV_Project/CNN-Classifier/env/lib/python3.10/site-packages (from ipykernel->notebook) (5.9.5)\n",
      "Requirement already satisfied: six>=1.9.0 in /home/joti/Documents/DL/CV_Project/CNN-Classifier/env/lib/python3.10/site-packages (from bleach!=5.0.0->nbconvert>=5->notebook) (1.16.0)\n",
      "Requirement already satisfied: webencodings in /home/joti/Documents/DL/CV_Project/CNN-Classifier/env/lib/python3.10/site-packages (from bleach!=5.0.0->nbconvert>=5->notebook) (0.5.1)\n",
      "Requirement already satisfied: backcall in /home/joti/Documents/DL/CV_Project/CNN-Classifier/env/lib/python3.10/site-packages (from ipython>=7.23.1->ipykernel->notebook) (0.2.0)\n",
      "Requirement already satisfied: decorator in /home/joti/Documents/DL/CV_Project/CNN-Classifier/env/lib/python3.10/site-packages (from ipython>=7.23.1->ipykernel->notebook) (5.1.1)\n",
      "Requirement already satisfied: jedi>=0.16 in /home/joti/Documents/DL/CV_Project/CNN-Classifier/env/lib/python3.10/site-packages (from ipython>=7.23.1->ipykernel->notebook) (0.18.2)\n",
      "Requirement already satisfied: pickleshare in /home/joti/Documents/DL/CV_Project/CNN-Classifier/env/lib/python3.10/site-packages (from ipython>=7.23.1->ipykernel->notebook) (0.7.5)\n",
      "Requirement already satisfied: prompt-toolkit!=3.0.37,<3.1.0,>=3.0.30 in /home/joti/Documents/DL/CV_Project/CNN-Classifier/env/lib/python3.10/site-packages (from ipython>=7.23.1->ipykernel->notebook) (3.0.38)\n",
      "Requirement already satisfied: stack-data in /home/joti/Documents/DL/CV_Project/CNN-Classifier/env/lib/python3.10/site-packages (from ipython>=7.23.1->ipykernel->notebook) (0.6.2)\n",
      "Requirement already satisfied: pexpect>4.3 in /home/joti/Documents/DL/CV_Project/CNN-Classifier/env/lib/python3.10/site-packages (from ipython>=7.23.1->ipykernel->notebook) (4.8.0)\n",
      "Requirement already satisfied: attrs>=17.4.0 in /home/joti/Documents/DL/CV_Project/CNN-Classifier/env/lib/python3.10/site-packages (from jsonschema>=2.6->nbformat->notebook) (23.1.0)\n",
      "Requirement already satisfied: pyrsistent!=0.17.0,!=0.17.1,!=0.17.2,>=0.14.0 in /home/joti/Documents/DL/CV_Project/CNN-Classifier/env/lib/python3.10/site-packages (from jsonschema>=2.6->nbformat->notebook) (0.19.3)\n",
      "Requirement already satisfied: anyio>=3.1.0 in /home/joti/Documents/DL/CV_Project/CNN-Classifier/env/lib/python3.10/site-packages (from jupyter-server>=1.8->nbclassic>=0.4.7->notebook) (3.7.0)\n",
      "Requirement already satisfied: jupyter-events>=0.6.0 in /home/joti/Documents/DL/CV_Project/CNN-Classifier/env/lib/python3.10/site-packages (from jupyter-server>=1.8->nbclassic>=0.4.7->notebook) (0.6.3)\n",
      "Requirement already satisfied: jupyter-server-terminals in /home/joti/Documents/DL/CV_Project/CNN-Classifier/env/lib/python3.10/site-packages (from jupyter-server>=1.8->nbclassic>=0.4.7->notebook) (0.4.4)\n",
      "Requirement already satisfied: overrides in /home/joti/Documents/DL/CV_Project/CNN-Classifier/env/lib/python3.10/site-packages (from jupyter-server>=1.8->nbclassic>=0.4.7->notebook) (7.3.1)\n",
      "Requirement already satisfied: websocket-client in /home/joti/Documents/DL/CV_Project/CNN-Classifier/env/lib/python3.10/site-packages (from jupyter-server>=1.8->nbclassic>=0.4.7->notebook) (1.6.0)\n"
     ]
    },
    {
     "name": "stdout",
     "output_type": "stream",
     "text": [
      "Requirement already satisfied: cffi>=1.0.1 in /home/joti/Documents/DL/CV_Project/CNN-Classifier/env/lib/python3.10/site-packages (from argon2-cffi-bindings->argon2-cffi->notebook) (1.15.1)\n",
      "Requirement already satisfied: soupsieve>1.2 in /home/joti/Documents/DL/CV_Project/CNN-Classifier/env/lib/python3.10/site-packages (from beautifulsoup4->nbconvert>=5->notebook) (2.4.1)\n",
      "Requirement already satisfied: idna>=2.8 in /home/joti/Documents/DL/CV_Project/CNN-Classifier/env/lib/python3.10/site-packages (from anyio>=3.1.0->jupyter-server>=1.8->nbclassic>=0.4.7->notebook) (3.4)\n",
      "Requirement already satisfied: sniffio>=1.1 in /home/joti/Documents/DL/CV_Project/CNN-Classifier/env/lib/python3.10/site-packages (from anyio>=3.1.0->jupyter-server>=1.8->nbclassic>=0.4.7->notebook) (1.3.0)\n",
      "Requirement already satisfied: exceptiongroup in /home/joti/Documents/DL/CV_Project/CNN-Classifier/env/lib/python3.10/site-packages (from anyio>=3.1.0->jupyter-server>=1.8->nbclassic>=0.4.7->notebook) (1.1.1)\n",
      "Requirement already satisfied: pycparser in /home/joti/Documents/DL/CV_Project/CNN-Classifier/env/lib/python3.10/site-packages (from cffi>=1.0.1->argon2-cffi-bindings->argon2-cffi->notebook) (2.21)\n",
      "Requirement already satisfied: parso<0.9.0,>=0.8.0 in /home/joti/Documents/DL/CV_Project/CNN-Classifier/env/lib/python3.10/site-packages (from jedi>=0.16->ipython>=7.23.1->ipykernel->notebook) (0.8.3)\n",
      "Requirement already satisfied: python-json-logger>=2.0.4 in /home/joti/Documents/DL/CV_Project/CNN-Classifier/env/lib/python3.10/site-packages (from jupyter-events>=0.6.0->jupyter-server>=1.8->nbclassic>=0.4.7->notebook) (2.0.7)\n",
      "Requirement already satisfied: pyyaml>=5.3 in /home/joti/Documents/DL/CV_Project/CNN-Classifier/env/lib/python3.10/site-packages (from jupyter-events>=0.6.0->jupyter-server>=1.8->nbclassic>=0.4.7->notebook) (6.0)\n",
      "Requirement already satisfied: rfc3339-validator in /home/joti/Documents/DL/CV_Project/CNN-Classifier/env/lib/python3.10/site-packages (from jupyter-events>=0.6.0->jupyter-server>=1.8->nbclassic>=0.4.7->notebook) (0.1.4)\n",
      "Requirement already satisfied: rfc3986-validator>=0.1.1 in /home/joti/Documents/DL/CV_Project/CNN-Classifier/env/lib/python3.10/site-packages (from jupyter-events>=0.6.0->jupyter-server>=1.8->nbclassic>=0.4.7->notebook) (0.1.1)\n",
      "Requirement already satisfied: wcwidth in /home/joti/Documents/DL/CV_Project/CNN-Classifier/env/lib/python3.10/site-packages (from prompt-toolkit!=3.0.37,<3.1.0,>=3.0.30->ipython>=7.23.1->ipykernel->notebook) (0.2.6)\n",
      "Requirement already satisfied: executing>=1.2.0 in /home/joti/Documents/DL/CV_Project/CNN-Classifier/env/lib/python3.10/site-packages (from stack-data->ipython>=7.23.1->ipykernel->notebook) (1.2.0)\n",
      "Requirement already satisfied: asttokens>=2.1.0 in /home/joti/Documents/DL/CV_Project/CNN-Classifier/env/lib/python3.10/site-packages (from stack-data->ipython>=7.23.1->ipykernel->notebook) (2.2.1)\n",
      "Requirement already satisfied: pure-eval in /home/joti/Documents/DL/CV_Project/CNN-Classifier/env/lib/python3.10/site-packages (from stack-data->ipython>=7.23.1->ipykernel->notebook) (0.2.2)\n",
      "Requirement already satisfied: fqdn in /home/joti/Documents/DL/CV_Project/CNN-Classifier/env/lib/python3.10/site-packages (from jsonschema>=2.6->nbformat->notebook) (1.5.1)\n",
      "Requirement already satisfied: isoduration in /home/joti/Documents/DL/CV_Project/CNN-Classifier/env/lib/python3.10/site-packages (from jsonschema>=2.6->nbformat->notebook) (20.11.0)\n",
      "Requirement already satisfied: jsonpointer>1.13 in /home/joti/Documents/DL/CV_Project/CNN-Classifier/env/lib/python3.10/site-packages (from jsonschema>=2.6->nbformat->notebook) (2.4)\n",
      "Requirement already satisfied: uri-template in /home/joti/Documents/DL/CV_Project/CNN-Classifier/env/lib/python3.10/site-packages (from jsonschema>=2.6->nbformat->notebook) (1.2.0)\n",
      "Requirement already satisfied: webcolors>=1.11 in /home/joti/Documents/DL/CV_Project/CNN-Classifier/env/lib/python3.10/site-packages (from jsonschema>=2.6->nbformat->notebook) (1.13)\n",
      "Requirement already satisfied: arrow>=0.15.0 in /home/joti/Documents/DL/CV_Project/CNN-Classifier/env/lib/python3.10/site-packages (from isoduration->jsonschema>=2.6->nbformat->notebook) (1.2.3)\n"
     ]
    }
   ],
   "source": [
    "!pip install notebook"
   ]
  },
  {
   "cell_type": "code",
   "execution_count": 3,
   "id": "eec138ce",
   "metadata": {},
   "outputs": [
    {
     "name": "stdout",
     "output_type": "stream",
     "text": [
      "Collecting tqdm\n",
      "  Downloading tqdm-4.65.0-py3-none-any.whl (77 kB)\n",
      "\u001b[2K     \u001b[38;2;114;156;31m━━━━━━━━━━━━━━━━━━━━━━━━━━━━━━━━━━━━━━━\u001b[0m \u001b[32m77.1/77.1 kB\u001b[0m \u001b[31m759.2 kB/s\u001b[0m eta \u001b[36m0:00:00\u001b[0m1m485.0 kB/s\u001b[0m eta \u001b[36m0:00:01\u001b[0m\n",
      "\u001b[?25hInstalling collected packages: tqdm\n",
      "Successfully installed tqdm-4.65.0\n"
     ]
    }
   ],
   "source": [
    "!pip install tqdm"
   ]
  },
  {
   "cell_type": "code",
   "execution_count": 4,
   "id": "25e3eb8c",
   "metadata": {},
   "outputs": [],
   "source": [
    "import tensorflow as tf\n",
    "import os\n",
    "from tqdm import tqdm\n",
    "import urllib.request as req "
   ]
  },
  {
   "cell_type": "code",
   "execution_count": null,
   "id": "97a41b08",
   "metadata": {},
   "outputs": [],
   "source": []
  }
 ],
 "metadata": {
  "kernelspec": {
   "display_name": "Python 3 (ipykernel)",
   "language": "python",
   "name": "python3"
  },
  "language_info": {
   "codemirror_mode": {
    "name": "ipython",
    "version": 3
   },
   "file_extension": ".py",
   "mimetype": "text/x-python",
   "name": "python",
   "nbconvert_exporter": "python",
   "pygments_lexer": "ipython3",
   "version": "3.10.11"
  }
 },
 "nbformat": 4,
 "nbformat_minor": 5
}
